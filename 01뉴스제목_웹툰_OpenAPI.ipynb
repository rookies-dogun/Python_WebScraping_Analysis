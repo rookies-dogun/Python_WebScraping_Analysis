{
 "cells": [
  {
   "cell_type": "markdown",
   "id": "eb0bfa44",
   "metadata": {},
   "source": [
    "## 1. 뉴스제목 가져오기\n",
    "* user-agent 요청헤더를 반드시 설정해야 한다."
   ]
  },
  {
   "cell_type": "code",
   "execution_count": 1,
   "id": "f0d27781",
   "metadata": {},
   "outputs": [
    {
     "name": "stdout",
     "output_type": "stream",
     "text": [
      "Name: requests\n",
      "Version: 2.31.0\n",
      "Summary: Python HTTP for Humans.\n",
      "Home-page: https://requests.readthedocs.io\n",
      "Author: Kenneth Reitz\n",
      "Author-email: me@kennethreitz.org\n",
      "License: Apache 2.0\n",
      "Location: C:\\Users\\user\\anaconda3\\Lib\\site-packages\n",
      "Requires: certifi, charset-normalizer, idna, urllib3\n",
      "Required-by: anaconda-catalogs, anaconda-client, anaconda-cloud-auth, anaconda-project, conda, conda-build, conda-repo-cli, conda_package_streaming, cookiecutter, datashader, jupyterlab_server, panel, requests-file, requests-toolbelt, Sphinx, streamlit, tldextract, webdriver-manager\n"
     ]
    }
   ],
   "source": [
    "# requests 라이브러리 설치여부 확인\n",
    "!pip show requests"
   ]
  },
  {
   "cell_type": "code",
   "execution_count": 3,
   "id": "f7798ea8",
   "metadata": {},
   "outputs": [
    {
     "name": "stdout",
     "output_type": "stream",
     "text": [
      "Name: beautifulsoup4\n",
      "Version: 4.12.3\n",
      "Summary: Screen-scraping library\n",
      "Home-page: https://www.crummy.com/software/BeautifulSoup/bs4/\n",
      "Author: \n",
      "Author-email: Leonard Richardson <leonardr@segfault.org>\n",
      "License: MIT License\n",
      "Location: C:\\Users\\user\\anaconda3\\Lib\\site-packages\n",
      "Requires: soupsieve\n",
      "Required-by: conda-build, nbconvert\n"
     ]
    }
   ],
   "source": [
    "# beautifulsoup4 라이브러리 설치여부 확인\n",
    "!pip show beautifulsoup4"
   ]
  },
  {
   "cell_type": "code",
   "execution_count": 2,
   "id": "bf80a429",
   "metadata": {},
   "outputs": [],
   "source": [
    "# reqeusts, bs4 import\n",
    "# BeautifulSoup 클래스 import\n",
    "import requests\n",
    "import bs4\n",
    "from bs4 import BeautifulSoup\n"
   ]
  },
  {
   "cell_type": "code",
   "execution_count": 8,
   "id": "9788d6ac",
   "metadata": {},
   "outputs": [
    {
     "name": "stdout",
     "output_type": "stream",
     "text": [
      "2.31.0\n",
      "4.12.3\n"
     ]
    }
   ],
   "source": [
    "# requests, bs4 버전 확인하기\n",
    "print (f'{requests.__version__}')\n",
    "print (f'{bs4.__version__}')"
   ]
  },
  {
   "cell_type": "markdown",
   "id": "ccb91def-cde3-4aeb-b0e5-2e7233500333",
   "metadata": {},
   "source": [
    "### 1. 뉴스 제목 추출하기"
   ]
  },
  {
   "cell_type": "code",
   "execution_count": 10,
   "id": "94c12fd6",
   "metadata": {},
   "outputs": [
    {
     "name": "stdout",
     "output_type": "stream",
     "text": [
      "https://news.naver.com/section/105\n",
      "86\n",
      "<class 'bs4.element.ResultSet'>\n",
      "https://n.news.naver.com/mnews/article/029/0002946651 슈퍼박테리아 치료 길 열어…특정 병원균만 사멸\n",
      "https://n.news.naver.com/mnews/article/comment/029/0002946651 \n",
      "https://n.news.naver.com/mnews/article/001/0015317061 스팸문자 사전 차단 '엑스레이 서비스' 9일 시범 도입\n",
      "https://n.news.naver.com/mnews/article/comment/001/0015317061 \n",
      "https://n.news.naver.com/mnews/article/011/0004471344 신세계아이앤씨, 무인매장용 'AI 계산대' 솔루션 출시\n",
      "https://n.news.naver.com/mnews/article/comment/011/0004471344 \n",
      "https://n.news.naver.com/mnews/article/421/0008179202 SKT, AI 기반 이상탐지 통합 서비스 개발…IBK銀·에이닷 탑재\n",
      "https://n.news.naver.com/mnews/article/comment/421/0008179202 \n",
      "https://n.news.naver.com/mnews/article/421/0008179473 우주청, 우즈벡·이탈리아와 우주 인력·탐사 등 협력 확대\n",
      "https://n.news.naver.com/mnews/article/comment/421/0008179473 \n",
      "https://n.news.naver.com/mnews/article/366/0001067530 카카오메이커스 “출범 9년 만에 누적 거래액 1조원 달성”\n",
      "https://n.news.naver.com/mnews/article/comment/366/0001067530 \n",
      "https://n.news.naver.com/mnews/article/138/0002194262 \"국민 1명당 1 AI 보급\"…뤼튼, 4월 말 AI 서포터·재테크 서비스\n",
      "https://n.news.naver.com/mnews/article/comment/138/0002194262 \n",
      "https://n.news.naver.com/mnews/article/014/0005332970 삼성 1분기 실적 효자는 '갤S25'…2Q '슬림' 판매량 관건\n",
      "https://n.news.naver.com/mnews/article/comment/014/0005332970 \n",
      "https://n.news.naver.com/mnews/article/092/0002369827 리플 \"전 세계 금융 시장, 실물자산 토큰화 중심으로 근본 변화\"\n",
      "https://n.news.naver.com/mnews/article/comment/092/0002369827 \n",
      "https://n.news.naver.com/mnews/article/366/0001067652 당뇨·비만 치료제가 치매 위험 33~43% 낮춘다\n",
      "https://n.news.naver.com/mnews/article/comment/366/0001067652 \n",
      "https://n.news.naver.com/mnews/article/421/0008180569 에이비엘바이오, '4조 기술이전' 후 첫 공식석상…로드맵 밝힌다\n",
      "https://n.news.naver.com/mnews/article/comment/421/0008180569 \n",
      "https://n.news.naver.com/mnews/article/421/0008180565 \"의료계 제안 논의하자\"…의협, 정부·국회에 '대화의 장' 요구\n",
      "https://n.news.naver.com/mnews/article/comment/421/0008180565 \n",
      "https://n.news.naver.com/mnews/article/081/0003531724 항암제 피하는 암세포 꼼수 발견…악성 폐암도 잡는다\n",
      "https://n.news.naver.com/mnews/article/comment/081/0003531724 \n",
      "https://n.news.naver.com/mnews/article/421/0008180537 뤼튼 \"무료전략으로 생활형 AI 시대 열 것…올해 천만 MAU 목표\"\n",
      "https://n.news.naver.com/mnews/article/comment/421/0008180537 \n",
      "https://n.news.naver.com/mnews/article/032/0003361993 첫 한국계 ‘NASA 우주비행사’ 조니 김, 마침내 지구 궤도로 떠났다\n",
      "https://n.news.naver.com/mnews/article/comment/032/0003361993 \n",
      "https://n.news.naver.com/mnews/article/015/0005116525 질병청, 세계 첫 단백질 재조합 탄저백신 '배리트락스' 상용화\n",
      "https://n.news.naver.com/mnews/article/comment/015/0005116525 \n",
      "https://n.news.naver.com/mnews/article/092/0002369818 트럼프 관세, 세계경제 큰 타격…美中 충돌로 더 증폭\n",
      "https://n.news.naver.com/mnews/article/comment/092/0002369818 \n",
      "https://n.news.naver.com/mnews/article/366/0001067643 [100세 과학] 노년 건강 유지엔 채식보다 육식\n",
      "https://n.news.naver.com/mnews/article/comment/366/0001067643 \n",
      "https://n.news.naver.com/mnews/article/018/0005982461 [사고]스테이블코인 vs CBDC…디지털금융 대세는 어디로?\n",
      "https://n.news.naver.com/mnews/article/comment/018/0005982461 \n",
      "https://n.news.naver.com/mnews/article/021/0002701758 폐암 면역치료 새 전략 찾았다…면역항암 막는 핵심인자 최초로 발견\n",
      "https://n.news.naver.com/mnews/article/comment/021/0002701758 \n",
      "https://n.news.naver.com/mnews/article/092/0002369817 \"갤럭시S26 울트라, 카메라 사양 등 전작과 큰 변화 없다\"\n",
      "https://n.news.naver.com/mnews/article/comment/092/0002369817 \n",
      "https://n.news.naver.com/mnews/article/092/0002369816 구영배 \"위시 살려야\" 주장에 피해자들 분통…\"차라리 처벌 받아라\"\n",
      "https://n.news.naver.com/mnews/article/comment/092/0002369816 \n",
      "https://n.news.naver.com/mnews/article/092/0002369815 관세 폭탄에 스마트폰 공장 美로 옮긴다?…\"가능성 희박\"\n",
      "https://n.news.naver.com/mnews/article/comment/092/0002369815 \n",
      "https://n.news.naver.com/mnews/article/015/0005116508 전국에 딱 500대만 풀린다…'한정판 갤럭시S25'의 정체\n",
      "https://n.news.naver.com/mnews/article/comment/015/0005116508 \n",
      "https://n.news.naver.com/mnews/article/030/0003301337 [6G 코리아] ④ 이통3사, AI-RAN 시장 개척 주도\n",
      "https://n.news.naver.com/mnews/article/comment/030/0003301337 \n",
      "https://n.news.naver.com/mnews/article/015/0005116502 한바이오 \"모유두세포로 탈모 정복하겠다\"\n",
      "https://n.news.naver.com/mnews/article/comment/015/0005116502 \n",
      "https://n.news.naver.com/mnews/article/293/0000065879 뤼튼, 감정 교류도 하는 'AI 비서' 낸다\n",
      "https://n.news.naver.com/mnews/article/comment/293/0000065879 \n",
      "https://n.news.naver.com/mnews/article/092/0002369813 온라인서 예금토큰 결제 지연…9일부터 순차적으로 진행\n",
      "https://n.news.naver.com/mnews/article/comment/092/0002369813 \n",
      "https://n.news.naver.com/mnews/article/030/0003301326 법인 가상자산 투자 허용, 금융 생태계 지각변동 예고...우덕수 블록데몬 아시아 대표 “기관 대상 상품 본격화”\n",
      "https://n.news.naver.com/mnews/article/comment/030/0003301326 \n",
      "https://n.news.naver.com/mnews/article/366/0001067631 美와 AI 격차 좁힌 中…한국은 AI 투자 줄어\n",
      "https://n.news.naver.com/mnews/article/comment/366/0001067631 \n",
      "https://n.news.naver.com/mnews/article/030/0003301320 LS전선, 대한전선 상대 특허 최종 승소…양측 상고 포기\n",
      "https://n.news.naver.com/mnews/article/comment/030/0003301320 \n",
      "https://n.news.naver.com/mnews/article/023/0003898272 사람 태워 산속 누빈다... 늑대 닮은 日 4족보행 로봇 공개\n",
      "https://n.news.naver.com/mnews/article/comment/023/0003898272 \n",
      "https://n.news.naver.com/mnews/article/030/0003301315 삼성전자 시장예상 뛰어넘은 1분기 실적...매출 79조·영업익 6.6조\n",
      "https://n.news.naver.com/mnews/article/comment/030/0003301315 \n",
      "https://n.news.naver.com/mnews/article/421/0008180285 '2인 체제' 방통위 논란 여전…이대로면 '줄소송' 가능성\n",
      "https://n.news.naver.com/mnews/article/comment/421/0008180285 \n",
      "https://n.news.naver.com/mnews/article/015/0005116490 \"영락없는 자녀 목소린데\"…AI 보이스피싱, AI로 방지\n",
      "https://n.news.naver.com/mnews/article/comment/015/0005116490 \n",
      "https://n.news.naver.com/mnews/article/138/0002194264 DDR5 가격 불 붙인 中 CXMT…삼성⋅SK '반사이익' 장기화 기대 [소부장반차장]\n",
      "https://n.news.naver.com/mnews/article/comment/138/0002194264 \n",
      "https://n.news.naver.com/mnews/article/029/0002946687 100년간 해킹 불가… 팬시코인, 세계 최초 `양자암호내성 블록체인 지갑` 승인\n",
      "https://n.news.naver.com/mnews/article/comment/029/0002946687 \n",
      "https://n.news.naver.com/mnews/article/030/0003301302 중소 알뜰폰 '저가형'에 대기업 알뜰폰, '이색 요금제'\n",
      "https://n.news.naver.com/mnews/article/comment/030/0003301302 \n",
      "https://n.news.naver.com/mnews/article/421/0008180265 질병청, 국내 기술로 최초 단백질 탄저백신 개발…'26년 결실'(종합)\n",
      "https://n.news.naver.com/mnews/article/comment/421/0008180265 \n",
      "https://n.news.naver.com/mnews/article/030/0003301301 [IT구루 간담회] AI 에이전트 등 응용분야 육성 전략, 인재양성 패러다임 전환해야\n",
      "https://n.news.naver.com/mnews/article/comment/030/0003301301 \n",
      "https://n.news.naver.com/mnews/article/277/0005574594 \"가구 배치, 옷 코디도 도와준다\"…제미나이 라이브 갤S25 적용\n",
      "https://n.news.naver.com/mnews/article/comment/277/0005574594 \n",
      "https://n.news.naver.com/mnews/article/030/0003301290 매그나칩, DDI 사업 청산…임직원 해고 통보\n",
      "https://n.news.naver.com/mnews/article/comment/030/0003301290 \n",
      "https://n.news.naver.com/mnews/article/009/0005472676 상금 30억원 내건 슈퍼센트, ‘제4회 슈퍼센트 게임 챌린지’ 개최\n",
      "https://n.news.naver.com/mnews/article/comment/009/0005472676 \n"
     ]
    }
   ],
   "source": [
    "# IT/과학 뉴스 \n",
    "req_param = {\n",
    "    'sid': 105\n",
    "}\n",
    "# \n",
    "url = 'https://news.naver.com/section/{sid}'.format(**req_param)\n",
    "print(url)\n",
    "\n",
    "# 요청 헤더 설정 : 브라우저 정보\n",
    "req_header = {\n",
    "    'user-agent': 'Mozilla/5.0 (Windows NT 10.0; Win64; x64) AppleWebKit/537.36 (KHTML, like Gecko) Chrome/135.0.0.0 Safari/537.36'\n",
    "}\n",
    "\n",
    "# requests 의 get() 함수 호출하기 \n",
    "res = requests.get(url=url, headers=req_header)\n",
    "\n",
    "# 응답(response)이 OK 이면\n",
    "if res.ok:\n",
    "    # 응답 (response)에서 text 추출\n",
    "    html = res.text\n",
    "    \n",
    "    # BeautifulSoup 객체 생성  \n",
    "    soup = BeautifulSoup(html, 'html.parser')\n",
    "    \n",
    "    print (len(soup.select(\"div.sa_text a[href*='/mnews/article']\")))\n",
    "    \n",
    "    a_tag_list = soup.select(\"div.sa_text a[href*='/mnews/article']\")\n",
    "    print(type(a_tag_list))\n",
    "    \n",
    "    for a_tag in a_tag_list:\n",
    "        # print(type(a_tag))\n",
    "        title = a_tag.text.strip()\n",
    "        # href 속성의 값을 가져오기\n",
    "        link = a_tag['href'] \n",
    "        print(link, title)\n",
    "    # CSS 선택자\n",
    "    # print(soup.select(\"div.sa_text a[href*='mnews/article']\"))\n",
    "\n",
    "    # <a> 태그 리스트 순회하기    \n",
    "else:\n",
    "    print (f'error code = {res.status_code}')\n",
    "# 응답(response)이 Error 이면 status code 출력    \n",
    "\n"
   ]
  },
  {
   "cell_type": "code",
   "execution_count": null,
   "id": "832ff167",
   "metadata": {},
   "outputs": [],
   "source": []
  },
  {
   "cell_type": "markdown",
   "id": "45640860-a449-4285-90d7-5f300292b461",
   "metadata": {},
   "source": [
    "### 1.1 뉴스제목 추출하는 함수 선언하기"
   ]
  },
  {
   "cell_type": "code",
   "execution_count": 29,
   "id": "9f2e4ef8",
   "metadata": {},
   "outputs": [
    {
     "name": "stdout",
     "output_type": "stream",
     "text": [
      "==========> https://news.naver.com/section/101 생활/문화 뉴스 <========\n",
      "92\n",
      "<class 'bs4.element.ResultSet'>\n",
      "https://n.news.naver.com/mnews/article/001/0015317078 길어지는 경기 불황에…유통기업 50% \"소비시장 내년 이후 회복\"\n",
      "https://n.news.naver.com/mnews/article/comment/001/0015317078 \n",
      "https://n.news.naver.com/mnews/article/018/0005982351 연 100% 넘는 살인적 금리, 합법적 대부업체라도 계약 원천 무효\n",
      "https://n.news.naver.com/mnews/article/comment/018/0005982351 \n",
      "https://n.news.naver.com/mnews/article/052/0002177050 2년 만에 재정적자 100조 원 넘어...국가채무 1,175조 원, GDP 대비 46.1%\n",
      "https://n.news.naver.com/mnews/article/comment/052/0002177050 \n",
      "https://n.news.naver.com/mnews/article/016/0002454229 최상목 “내주초 ‘10조 추경’ 세부 내용 발표”\n",
      "https://n.news.naver.com/mnews/article/comment/016/0002454229 \n",
      "https://n.news.naver.com/mnews/article/214/0001416841 한국은행 \"임금 조정 없는 정년 연장, 부작용 반복‥퇴직 후 재고용해야\"\n",
      "https://n.news.naver.com/mnews/article/comment/214/0001416841 \n",
      "https://n.news.naver.com/mnews/article/448/0000519115 삼성전자 1분기 영업이익 6.6조…작년 동기보다 0.15%↓\n",
      "https://n.news.naver.com/mnews/article/comment/448/0000519115 \n",
      "https://n.news.naver.com/mnews/article/016/0002454404 AI·바이오…딥테크에 투자 몰렸다\n",
      "https://n.news.naver.com/mnews/article/comment/016/0002454404 \n",
      "https://n.news.naver.com/mnews/article/421/0008180481 한화에어로 유증 2.3조로 축소 '논란 종식'…4년간 11조 투자(종합)\n",
      "https://n.news.naver.com/mnews/article/comment/421/0008180481 \n",
      "https://n.news.naver.com/mnews/article/629/0000380227 LS전선, 특허 소송 승소 확정…대한전선 상고장 미제출 \"갈등 소모적\"\n",
      "https://n.news.naver.com/mnews/article/comment/629/0000380227 \n",
      "https://n.news.naver.com/mnews/article/052/0002176952 2월 경상수지 71.8억 달러 흑자...22개월 연속\n",
      "https://n.news.naver.com/mnews/article/comment/052/0002176952 \n",
      "https://n.news.naver.com/mnews/article/015/0005116583 관세전쟁에 얻어맞은 원화…또 글로벌 금융위기 이후 '최고' [한경 외환시장 워치]\n",
      "https://n.news.naver.com/mnews/article/comment/015/0005116583 \n",
      "https://n.news.naver.com/mnews/article/020/0003626831 한화에어로, 유상증자 비판에 “규모 3.6조→2.3조 축소”\n",
      "https://n.news.naver.com/mnews/article/comment/020/0003626831 \n",
      "https://n.news.naver.com/mnews/article/024/0000096213 “트럼프 완전히 미친 것 같다 ”···석학들 잇딴 경고\n",
      "https://n.news.naver.com/mnews/article/comment/024/0000096213 \n",
      "https://n.news.naver.com/mnews/article/001/0015317987 '관세 우려와 실적 사이' 코스피 소폭 반등해 2,330대 마감(종합)\n",
      "https://n.news.naver.com/mnews/article/comment/001/0015317987 \n",
      "https://n.news.naver.com/mnews/article/081/0003531761 [서울데이터랩]마감 직후 인기 검색 종목 20選\n",
      "https://n.news.naver.com/mnews/article/comment/081/0003531761 \n",
      "https://n.news.naver.com/mnews/article/031/0000922860 한화에어로, \"뼈저리게 반성\"...유증 규모 축소\n",
      "https://n.news.naver.com/mnews/article/comment/031/0000922860 \n",
      "https://n.news.naver.com/mnews/article/001/0015317977 원/달러 환율 금융위기 후 최고 수준…증시는 소폭 반등\n",
      "https://n.news.naver.com/mnews/article/comment/001/0015317977 \n",
      "https://n.news.naver.com/mnews/article/008/0005177573 '관세 104%?' 반격 나서는 중국, 미국 서비스업 수출도 정조준\n",
      "https://n.news.naver.com/mnews/article/comment/008/0005177573 \n",
      "https://n.news.naver.com/mnews/article/018/0005982560 美, 무역협상 대표로 재무장관 지명…제2의 플라자합의 나오나\n",
      "https://n.news.naver.com/mnews/article/comment/018/0005982560 \n",
      "https://n.news.naver.com/mnews/article/022/0004026002 “미국·일본 여행 미뤄야하나”…관세쇼크에 원화 ‘뚝’\n",
      "https://n.news.naver.com/mnews/article/comment/022/0004026002 \n",
      "https://n.news.naver.com/mnews/article/648/0000035141 증시 '패닉셀 후폭풍' 바닥은 어디…자산운용업계, 긴급 점검\n",
      "https://n.news.naver.com/mnews/article/comment/648/0000035141 \n",
      "https://n.news.naver.com/mnews/article/417/0001069525 \"매각 앞두고 몸값 불리나\"… KFC 10개월 만에 또 가격 인상 '눈총'\n",
      "https://n.news.naver.com/mnews/article/comment/417/0001069525 \n",
      "https://n.news.naver.com/mnews/article/417/0001069524 \"내공도 쌓았다\"… 기술반환, 전화위복 계기로 삼는 K제약\n",
      "https://n.news.naver.com/mnews/article/comment/417/0001069524 \n",
      "https://n.news.naver.com/mnews/article/469/0000858340 1분기 반가운 성적표 받은 삼성전자...'트럼프 관세' 충격 흡수 숙제 받았다\n",
      "https://n.news.naver.com/mnews/article/comment/469/0000858340 \n",
      "https://n.news.naver.com/mnews/article/055/0001247454 [D리포트] 삼성 1분기 영업익 6.6조…어닝 서프라이즈 속 불안한 속내\n",
      "https://n.news.naver.com/mnews/article/comment/055/0001247454 \n",
      "https://n.news.naver.com/mnews/article/417/0001069522 원/달러 환율 주간 종가 1473.2원… 금융위기 이후 최고\n",
      "https://n.news.naver.com/mnews/article/comment/417/0001069522 \n",
      "https://n.news.naver.com/mnews/article/003/0013171273 [인터뷰] 조성현 온라인쇼핑협회 회장 \"티메프·발란 파장, 규제가 본질적 해결책 아냐\"\n",
      "https://n.news.naver.com/mnews/article/comment/003/0013171273 \n",
      "https://n.news.naver.com/mnews/article/028/0002739871 전세계 시장서 밀리는 K-배터리…약진하는 BYD\n",
      "https://n.news.naver.com/mnews/article/comment/028/0002739871 \n",
      "https://n.news.naver.com/mnews/article/008/0005177570 \"시장, 이성 잃었다\" 삼성전자에 개인 매수, 외인·기관 매도\n",
      "https://n.news.naver.com/mnews/article/comment/008/0005177570 \n",
      "https://n.news.naver.com/mnews/article/008/0005177569 순식간에 '10조 패닉셀' 외인…\"지금 최고의 주식\" OO은 샀다\n",
      "https://n.news.naver.com/mnews/article/comment/008/0005177569 \n",
      "https://n.news.naver.com/mnews/article/079/0004011490 코스피, 상승폭 반납 0.26%↑마감…환율 금융위기 이후 최고점\n",
      "https://n.news.naver.com/mnews/article/comment/079/0004011490 \n",
      "https://n.news.naver.com/mnews/article/648/0000035140 삼성전자, '갤S25' 날개 달고 깜짝 실적 거뒀다\n",
      "https://n.news.naver.com/mnews/article/comment/648/0000035140 \n",
      "https://n.news.naver.com/mnews/article/001/0015317941 한화에어로 주주배정 유증 축소에 9%↑…방산·조선株 동반 강세(종합)\n",
      "https://n.news.naver.com/mnews/article/comment/001/0015317941 \n",
      "https://n.news.naver.com/mnews/article/008/0005177568 변동성 장세에도 정치 테마주 훨훨…빚내서 달려든 개미들\n",
      "https://n.news.naver.com/mnews/article/comment/008/0005177568 \n",
      "https://n.news.naver.com/mnews/article/008/0005177567 급락에 버틴 '경기방어주' 통신주, 성장주로 변신 가능할까\n",
      "https://n.news.naver.com/mnews/article/comment/008/0005177567 \n",
      "https://n.news.naver.com/mnews/article/421/0008180771 환율 관세전쟁 쇼크…달러당 1473.2원, 금융위기 이후 16년만에 최고(종합)\n",
      "https://n.news.naver.com/mnews/article/comment/421/0008180771 \n",
      "https://n.news.naver.com/mnews/article/014/0005332975 美 재계 '큰손'들, 트럼프 관세 정책 맹비난 \"헛소리\"\n",
      "https://n.news.naver.com/mnews/article/comment/014/0005332975 \n",
      "https://n.news.naver.com/mnews/article/014/0005332974 소프트센, 中소천과기에 초박형 태양광 유리·BIPV 모듈 핵심장비 공급 추진\n",
      "https://n.news.naver.com/mnews/article/comment/014/0005332974 \n",
      "https://n.news.naver.com/mnews/article/003/0013171250 \"이번엔 술자리 면접 논란\"…더본코리아, 상장 이후 최저가 추락\n",
      "https://n.news.naver.com/mnews/article/comment/003/0013171250 \n",
      "https://n.news.naver.com/mnews/article/629/0000380278 삼성·SK·LG, 차분한 창립기념일…경영 위기 속 창업 정신 강조\n",
      "https://n.news.naver.com/mnews/article/comment/629/0000380278 \n",
      "https://n.news.naver.com/mnews/article/629/0000380277 코스피, 상승분 대폭 반납 후 강보합 마감…환율은 금융위기 이후 최고\n",
      "https://n.news.naver.com/mnews/article/comment/629/0000380277 \n",
      "https://n.news.naver.com/mnews/article/032/0003362018 갈 길 먼데 극한 치닫는 미·중 갈등…국내 배터리, 불똥 튈까 노심초사\n",
      "https://n.news.naver.com/mnews/article/comment/032/0003362018 \n",
      "https://n.news.naver.com/mnews/article/018/0005982531 ‘패닉셀 진정’ 코스피, 5거래일만에 반등…코스닥 1% 상승\n",
      "https://n.news.naver.com/mnews/article/comment/018/0005982531 \n",
      "https://n.news.naver.com/mnews/article/001/0015317901 BBQ, 위메프 인수의향서 제출…\"검토 초기 단계\"\n",
      "https://n.news.naver.com/mnews/article/comment/001/0015317901 \n",
      "https://n.news.naver.com/mnews/article/011/0004471598 카드업계, 아시아나 제휴카드 발급 중단\n",
      "https://n.news.naver.com/mnews/article/comment/011/0004471598 \n",
      "https://n.news.naver.com/mnews/article/366/0001067663 해외서 발 뺀 이중항체, 韓 기업들이 이끈다\n",
      "https://n.news.naver.com/mnews/article/comment/366/0001067663 \n"
     ]
    }
   ],
   "source": [
    "import requests\n",
    "from bs4 import BeautifulSoup\n",
    "\n",
    "section_dict = {100:'정치',101:'경제',102:'사회',103:'생활/문화',104:'세계',105:'IT/과학'}\n",
    "\n",
    "def print_news(sid):  #print_new(103,'생활/문화') \n",
    "    req_param = {\n",
    "        'sid': sid\n",
    "    }\n",
    "    \n",
    "    url = 'https://news.naver.com/section/{sid}'.format(**req_param)\n",
    "    print(f'==========> {url} {section_dict[103]} 뉴스 <========')\n",
    "    \n",
    "    # 요청 헤더 설정 : 브라우저 정보\n",
    "    req_header = {\n",
    "        'user-agent': 'Mozilla/5.0 (Windows NT 10.0; Win64; x64) AppleWebKit/537.36 (KHTML, like Gecko) Chrome/135.0.0.0 Safari/537.36'\n",
    "    }\n",
    "\n",
    "    # requests 의 get() 함수 호출하기 \n",
    "    res = requests.get(url=url, headers=req_header)\n",
    "    \n",
    "    if res.ok:\n",
    "        # 응답 (response)에서 text 추출\n",
    "        html = res.text\n",
    "        \n",
    "        # BeautifulSoup 객체 생성  \n",
    "        soup = BeautifulSoup(html, 'html.parser')\n",
    "        \n",
    "        print (len(soup.select(\"div.sa_text a[href*='/mnews/article']\")))\n",
    "        \n",
    "        a_tag_list = soup.select(\"div.sa_text a[href*='/mnews/article']\")\n",
    "        print(type(a_tag_list))\n",
    "        \n",
    "        for a_tag in a_tag_list:\n",
    "            # print(type(a_tag))\n",
    "            title = a_tag.text.strip()\n",
    "            # href 속성의 값을 가져오기\n",
    "            link = a_tag['href'] \n",
    "            print(link, title)\n",
    "            \n",
    "    else:\n",
    "        print (f'error code = {res.status_code}')\n",
    "    \n",
    "print_news(101)\n"
   ]
  },
  {
   "cell_type": "markdown",
   "id": "323196dc",
   "metadata": {},
   "source": [
    "### 2. Image 다운로드\n",
    "* referer 요청 헤더를 반드시 설정해야 한다."
   ]
  },
  {
   "cell_type": "code",
   "execution_count": 10,
   "id": "c72d6cb1",
   "metadata": {},
   "outputs": [
    {
     "name": "stdout",
     "output_type": "stream",
     "text": [
      "Writting to d:\\AI\\Python\\lesson\\Python_WebScraping_Analysis\\img\\20220804112251_d97bd1e1b38f0cd022e4e3639d2926b3_IMAG01_1.jpg(299,319)\n",
      "Writting to d:\\AI\\Python\\lesson\\Python_WebScraping_Analysis\\img\\20220804112251_d97bd1e1b38f0cd022e4e3639d2926b3_IMAG01_2.jpg(163,333)\n",
      "Writting to d:\\AI\\Python\\lesson\\Python_WebScraping_Analysis\\img\\20220804112251_d97bd1e1b38f0cd022e4e3639d2926b3_IMAG01_3.jpg(182,530)\n",
      "Writting to d:\\AI\\Python\\lesson\\Python_WebScraping_Analysis\\img\\20220804112251_d97bd1e1b38f0cd022e4e3639d2926b3_IMAG01_4.jpg(209,587)\n",
      "Writting to d:\\AI\\Python\\lesson\\Python_WebScraping_Analysis\\img\\20220804112251_d97bd1e1b38f0cd022e4e3639d2926b3_IMAG01_5.jpg(163,447)\n",
      "Writting to d:\\AI\\Python\\lesson\\Python_WebScraping_Analysis\\img\\20220804112251_d97bd1e1b38f0cd022e4e3639d2926b3_IMAG01_6.jpg(177,226)\n",
      "Writting to d:\\AI\\Python\\lesson\\Python_WebScraping_Analysis\\img\\20220804112251_d97bd1e1b38f0cd022e4e3639d2926b3_IMAG01_7.jpg(175,388)\n",
      "Writting to d:\\AI\\Python\\lesson\\Python_WebScraping_Analysis\\img\\20220804112251_d97bd1e1b38f0cd022e4e3639d2926b3_IMAG01_8.jpg(145,953)\n",
      "Writting to d:\\AI\\Python\\lesson\\Python_WebScraping_Analysis\\img\\20220804112251_d97bd1e1b38f0cd022e4e3639d2926b3_IMAG01_9.jpg(198,178)\n",
      "Writting to d:\\AI\\Python\\lesson\\Python_WebScraping_Analysis\\img\\20220804112251_d97bd1e1b38f0cd022e4e3639d2926b3_IMAG01_10.jpg(166,660)\n",
      "Writting to d:\\AI\\Python\\lesson\\Python_WebScraping_Analysis\\img\\20220804112251_d97bd1e1b38f0cd022e4e3639d2926b3_IMAG01_11.jpg(237,469)\n",
      "Writting to d:\\AI\\Python\\lesson\\Python_WebScraping_Analysis\\img\\20220804112251_d97bd1e1b38f0cd022e4e3639d2926b3_IMAG01_12.jpg(180,098)\n",
      "Writting to d:\\AI\\Python\\lesson\\Python_WebScraping_Analysis\\img\\20220804112251_d97bd1e1b38f0cd022e4e3639d2926b3_IMAG01_13.jpg(264,256)\n",
      "Writting to d:\\AI\\Python\\lesson\\Python_WebScraping_Analysis\\img\\20220804112251_d97bd1e1b38f0cd022e4e3639d2926b3_IMAG01_14.jpg(33,199)\n",
      "Writting to d:\\AI\\Python\\lesson\\Python_WebScraping_Analysis\\img\\20220804112251_d97bd1e1b38f0cd022e4e3639d2926b3_IMAG01_15.jpg(78,941)\n",
      "Writting to d:\\AI\\Python\\lesson\\Python_WebScraping_Analysis\\img\\20220804112251_d97bd1e1b38f0cd022e4e3639d2926b3_IMAG01_16.jpg(221,491)\n",
      "Writting to d:\\AI\\Python\\lesson\\Python_WebScraping_Analysis\\img\\20220804112251_d97bd1e1b38f0cd022e4e3639d2926b3_IMAG01_17.jpg(145,977)\n",
      "Writting to d:\\AI\\Python\\lesson\\Python_WebScraping_Analysis\\img\\20220804112251_d97bd1e1b38f0cd022e4e3639d2926b3_IMAG01_18.jpg(123,497)\n",
      "Writting to d:\\AI\\Python\\lesson\\Python_WebScraping_Analysis\\img\\20220804112251_d97bd1e1b38f0cd022e4e3639d2926b3_IMAG01_19.jpg(188,958)\n",
      "Writting to d:\\AI\\Python\\lesson\\Python_WebScraping_Analysis\\img\\20220804112251_d97bd1e1b38f0cd022e4e3639d2926b3_IMAG01_20.jpg(193,930)\n",
      "Writting to d:\\AI\\Python\\lesson\\Python_WebScraping_Analysis\\img\\20220804112251_d97bd1e1b38f0cd022e4e3639d2926b3_IMAG01_21.jpg(181,694)\n",
      "Writting to d:\\AI\\Python\\lesson\\Python_WebScraping_Analysis\\img\\20220804112251_d97bd1e1b38f0cd022e4e3639d2926b3_IMAG01_22.jpg(165,188)\n",
      "Writting to d:\\AI\\Python\\lesson\\Python_WebScraping_Analysis\\img\\20220804112251_d97bd1e1b38f0cd022e4e3639d2926b3_IMAG01_23.jpg(154,783)\n",
      "Writting to d:\\AI\\Python\\lesson\\Python_WebScraping_Analysis\\img\\20220804112251_d97bd1e1b38f0cd022e4e3639d2926b3_IMAG01_24.jpg(173,045)\n",
      "Writting to d:\\AI\\Python\\lesson\\Python_WebScraping_Analysis\\img\\20220804112251_d97bd1e1b38f0cd022e4e3639d2926b3_IMAG01_25.jpg(214,957)\n",
      "Writting to d:\\AI\\Python\\lesson\\Python_WebScraping_Analysis\\img\\20220804112251_d97bd1e1b38f0cd022e4e3639d2926b3_IMAG01_26.jpg(117,910)\n",
      "Writting to d:\\AI\\Python\\lesson\\Python_WebScraping_Analysis\\img\\20220804112251_d97bd1e1b38f0cd022e4e3639d2926b3_IMAG01_27.jpg(69,320)\n",
      "Writting to d:\\AI\\Python\\lesson\\Python_WebScraping_Analysis\\img\\20220804112251_d97bd1e1b38f0cd022e4e3639d2926b3_IMAG01_28.jpg(181,478)\n",
      "Writting to d:\\AI\\Python\\lesson\\Python_WebScraping_Analysis\\img\\20220804112251_d97bd1e1b38f0cd022e4e3639d2926b3_IMAG01_29.jpg(140,918)\n",
      "Writting to d:\\AI\\Python\\lesson\\Python_WebScraping_Analysis\\img\\20220804112251_d97bd1e1b38f0cd022e4e3639d2926b3_IMAG01_30.jpg(129,592)\n",
      "Writting to d:\\AI\\Python\\lesson\\Python_WebScraping_Analysis\\img\\20220804112251_d97bd1e1b38f0cd022e4e3639d2926b3_IMAG01_31.jpg(143,236)\n",
      "Writting to d:\\AI\\Python\\lesson\\Python_WebScraping_Analysis\\img\\20220804112251_d97bd1e1b38f0cd022e4e3639d2926b3_IMAG01_32.jpg(134,301)\n",
      "Writting to d:\\AI\\Python\\lesson\\Python_WebScraping_Analysis\\img\\20220804112251_d97bd1e1b38f0cd022e4e3639d2926b3_IMAG01_33.jpg(103,823)\n",
      "Writting to d:\\AI\\Python\\lesson\\Python_WebScraping_Analysis\\img\\20220804112251_d97bd1e1b38f0cd022e4e3639d2926b3_IMAG01_34.jpg(136,123)\n",
      "Writting to d:\\AI\\Python\\lesson\\Python_WebScraping_Analysis\\img\\20220804112251_d97bd1e1b38f0cd022e4e3639d2926b3_IMAG01_35.jpg(159,925)\n",
      "Writting to d:\\AI\\Python\\lesson\\Python_WebScraping_Analysis\\img\\20220804112251_d97bd1e1b38f0cd022e4e3639d2926b3_IMAG01_36.jpg(143,115)\n",
      "Writting to d:\\AI\\Python\\lesson\\Python_WebScraping_Analysis\\img\\20220804112251_d97bd1e1b38f0cd022e4e3639d2926b3_IMAG01_37.jpg(128,479)\n",
      "Writting to d:\\AI\\Python\\lesson\\Python_WebScraping_Analysis\\img\\20220804112251_d97bd1e1b38f0cd022e4e3639d2926b3_IMAG01_38.jpg(72,708)\n",
      "Writting to d:\\AI\\Python\\lesson\\Python_WebScraping_Analysis\\img\\20220804112251_d97bd1e1b38f0cd022e4e3639d2926b3_IMAG01_39.jpg(131,850)\n",
      "Writting to d:\\AI\\Python\\lesson\\Python_WebScraping_Analysis\\img\\20220804112251_d97bd1e1b38f0cd022e4e3639d2926b3_IMAG01_40.jpg(133,823)\n",
      "Writting to d:\\AI\\Python\\lesson\\Python_WebScraping_Analysis\\img\\20220804112251_d97bd1e1b38f0cd022e4e3639d2926b3_IMAG01_41.jpg(160,376)\n",
      "Writting to d:\\AI\\Python\\lesson\\Python_WebScraping_Analysis\\img\\20220804112251_d97bd1e1b38f0cd022e4e3639d2926b3_IMAG01_42.jpg(88,646)\n",
      "Writting to d:\\AI\\Python\\lesson\\Python_WebScraping_Analysis\\img\\20220804112251_d97bd1e1b38f0cd022e4e3639d2926b3_IMAG01_43.jpg(136,897)\n",
      "Writting to d:\\AI\\Python\\lesson\\Python_WebScraping_Analysis\\img\\20220804112251_d97bd1e1b38f0cd022e4e3639d2926b3_IMAG01_44.jpg(137,186)\n",
      "Writting to d:\\AI\\Python\\lesson\\Python_WebScraping_Analysis\\img\\20220804112251_d97bd1e1b38f0cd022e4e3639d2926b3_IMAG01_45.jpg(114,744)\n",
      "Writting to d:\\AI\\Python\\lesson\\Python_WebScraping_Analysis\\img\\20220804112251_d97bd1e1b38f0cd022e4e3639d2926b3_IMAG01_46.jpg(184,352)\n",
      "Writting to d:\\AI\\Python\\lesson\\Python_WebScraping_Analysis\\img\\20220804112251_d97bd1e1b38f0cd022e4e3639d2926b3_IMAG01_47.jpg(151,188)\n",
      "Writting to d:\\AI\\Python\\lesson\\Python_WebScraping_Analysis\\img\\20220804112251_d97bd1e1b38f0cd022e4e3639d2926b3_IMAG01_48.jpg(195,514)\n",
      "Writting to d:\\AI\\Python\\lesson\\Python_WebScraping_Analysis\\img\\20220804112251_d97bd1e1b38f0cd022e4e3639d2926b3_IMAG01_49.jpg(63,711)\n",
      "Writting to d:\\AI\\Python\\lesson\\Python_WebScraping_Analysis\\img\\20220804112251_d97bd1e1b38f0cd022e4e3639d2926b3_IMAG01_50.jpg(104,345)\n",
      "Writting to d:\\AI\\Python\\lesson\\Python_WebScraping_Analysis\\img\\20220804112251_d97bd1e1b38f0cd022e4e3639d2926b3_IMAG01_51.jpg(124,549)\n",
      "Writting to d:\\AI\\Python\\lesson\\Python_WebScraping_Analysis\\img\\20220804112251_d97bd1e1b38f0cd022e4e3639d2926b3_IMAG01_52.jpg(160,262)\n",
      "Writting to d:\\AI\\Python\\lesson\\Python_WebScraping_Analysis\\img\\20220804112251_d97bd1e1b38f0cd022e4e3639d2926b3_IMAG01_53.jpg(197,197)\n",
      "Writting to d:\\AI\\Python\\lesson\\Python_WebScraping_Analysis\\img\\20220804112251_d97bd1e1b38f0cd022e4e3639d2926b3_IMAG01_54.jpg(115,630)\n",
      "Writting to d:\\AI\\Python\\lesson\\Python_WebScraping_Analysis\\img\\20220804112251_d97bd1e1b38f0cd022e4e3639d2926b3_IMAG01_55.jpg(137,427)\n",
      "Writting to d:\\AI\\Python\\lesson\\Python_WebScraping_Analysis\\img\\20220804112251_d97bd1e1b38f0cd022e4e3639d2926b3_IMAG01_56.jpg(171,676)\n",
      "Writting to d:\\AI\\Python\\lesson\\Python_WebScraping_Analysis\\img\\20220804112251_d97bd1e1b38f0cd022e4e3639d2926b3_IMAG01_57.jpg(103,026)\n"
     ]
    }
   ],
   "source": [
    "import requests\n",
    "from bs4 import BeautifulSoup\n",
    "import os\n",
    "\n",
    "\n",
    "url = 'https://comic.naver.com/webtoon/detail?titleId=798173&no=5&amp;weekday=thu';\n",
    "\n",
    "\n",
    "req_header = {\n",
    "    'user-agent': 'Mozilla/5.0 (Windows NT 10.0; Win64; x64) AppleWebKit/537.36 (KHTML, like Gecko) Chrome/135.0.0.0 Safari/537.36'\n",
    "}\n",
    "\n",
    "res = requests.get(url=url, headers=req_header)\n",
    "\n",
    "if res.ok:\n",
    "    res.encoding = 'utf-8'\n",
    "    soup = BeautifulSoup(res.text, 'html.parser')\n",
    "    \n",
    "    img_tag_list = soup.select(\".wt_viewer > img\")\n",
    "    \n",
    "    \n",
    "    for img_tag in img_tag_list:\n",
    "        img_url = img_tag[\"src\"]\n",
    "        img_res = requests.get(img_url, headers=req_header)\n",
    "        \n",
    "        if img_res.ok:\n",
    "            \n",
    "            # binary 응답 데이터 가져오기\n",
    "            img_data = img_res.content\n",
    "            \n",
    "            # url에서 파일명만 추출하기\n",
    "            file_name = os.path.join(os.getcwd(), \"img\", os.path.basename(img_url))\n",
    "            \n",
    "            # binday data를 file에 write하기'\n",
    "            with open(file_name,'wb') as file:\n",
    "                print(f'Writting to {file_name}({len(img_data):,})')\n",
    "                file.write(img_data)\n",
    "            \n",
    "\n",
    "            \n"
   ]
  },
  {
   "cell_type": "markdown",
   "id": "e8b00a04",
   "metadata": {},
   "source": [
    "* 현재 요청된 페이지의 image 모두 다운로드 해보기"
   ]
  },
  {
   "cell_type": "code",
   "execution_count": null,
   "id": "b30f7bf5",
   "metadata": {},
   "outputs": [],
   "source": []
  },
  {
   "cell_type": "markdown",
   "id": "2ac9f5f9",
   "metadata": {},
   "source": [
    "### 3. 파일 업로드 하기\n",
    "* http://httpbin.org/post 업로드 요청을 할 수 있는 url"
   ]
  },
  {
   "cell_type": "code",
   "execution_count": 11,
   "id": "04da4790",
   "metadata": {},
   "outputs": [],
   "source": [
    "import requests\n",
    "\n",
    "upload_files = {\n",
    "    'img1': open('f1.jpg', 'rb')\n",
    "}\n",
    "#print(upload_files)\n",
    "\n",
    "url = 'https://httpbin.org/post'\n",
    "\n",
    "res = requests.post(url, files=upload_files)\n",
    "# file 업로드 하려면 requests의 post 함수에 files 속성을 사용합니다.\n",
    "\n"
   ]
  },
  {
   "cell_type": "markdown",
   "id": "7ad65f12",
   "metadata": {},
   "source": [
    "### 4. 캡챠(이미지) API 호출하기\n",
    "* urllib 사용\n",
    "* 1. 캡차 키 발급 요청\n",
    "  2. 캡차 이미지 요청\n",
    "  3. 사용자 입력값 검증 요청"
   ]
  },
  {
   "cell_type": "code",
   "execution_count": 18,
   "id": "bc4ae360-e772-4873-8642-d3494edd34e1",
   "metadata": {},
   "outputs": [
    {
     "name": "stdout",
     "output_type": "stream",
     "text": [
      "{\"key\":\"hdntkaG5VAlh87EZ\"}\n"
     ]
    }
   ],
   "source": [
    "# 캡차 키 발급 요청\n",
    "import os\n",
    "import sys\n",
    "import urllib.request\n",
    "from dotenv import load_dotenv\n",
    "\n",
    "load_dotenv()\n",
    "client_id = os.getenv(\"NAVER_CLIENT_ID\") # 개발자센터에서 발급받은 Client ID 값\n",
    "client_secret = os.getenv(\"NAVER_CLIENT_SECRET\") # 개발자센터에서 발급받은 Client Secret 값\n",
    "code = \"0\"\n",
    "url = \"https://openapi.naver.com/v1/captcha/nkey?code=\" + code\n",
    "request = urllib.request.Request(url)\n",
    "request.add_header(\"X-Naver-Client-Id\",client_id)\n",
    "request.add_header(\"X-Naver-Client-Secret\",client_secret)\n",
    "response = urllib.request.urlopen(request)\n",
    "rescode = response.getcode()\n",
    "if(rescode==200):\n",
    "    response_body = response.read()\n",
    "    print(response_body.decode('utf-8'))\n",
    "else:\n",
    "    print(\"Error Code:\" + rescode)"
   ]
  },
  {
   "cell_type": "code",
   "execution_count": 19,
   "id": "7b95b6a0-c218-4792-82a6-da4d80872071",
   "metadata": {},
   "outputs": [
    {
     "name": "stdout",
     "output_type": "stream",
     "text": [
      "캡차 이미지 저장\n"
     ]
    }
   ],
   "source": [
    "# 캡차 이미지 요청\n",
    "import os\n",
    "import sys\n",
    "import urllib.request\n",
    "from dotenv import load_dotenv\n",
    "\n",
    "load_dotenv()\n",
    "\n",
    "client_id = os.getenv(\"NAVER_CLIENT_ID\") # 개발자센터에서 발급받은 Client ID 값\n",
    "client_secret = os.getenv(\"NAVER_CLIENT_SECRET\") # 개발자센터에서 발급받은 Client Secret 값\n",
    "key = \"hdntkaG5VAlh87EZ\" # 캡차 Key 값\n",
    "url = \"https://openapi.naver.com/v1/captcha/ncaptcha.bin?key=\" + key\n",
    "request = urllib.request.Request(url)\n",
    "request.add_header(\"X-Naver-Client-Id\",client_id)\n",
    "request.add_header(\"X-Naver-Client-Secret\",client_secret)\n",
    "response = urllib.request.urlopen(request)\n",
    "rescode = response.getcode()\n",
    "if(rescode==200):\n",
    "    print(\"캡차 이미지 저장\")\n",
    "    response_body = response.read()\n",
    "    with open('captcha.jpg', 'wb') as f:\n",
    "        f.write(response_body)\n",
    "else:\n",
    "    print(\"Error Code:\" + rescode)"
   ]
  },
  {
   "cell_type": "code",
   "execution_count": 20,
   "id": "a79076af-2cd0-4de2-8301-316b9130c55e",
   "metadata": {},
   "outputs": [
    {
     "name": "stdout",
     "output_type": "stream",
     "text": [
      "{\"result\":true,\"responseTime\":26.42}\n"
     ]
    }
   ],
   "source": [
    "#  사용자 입력값 검증 요청\n",
    "import os\n",
    "import sys\n",
    "import urllib.request\n",
    "from dotenv import load_dotenv\n",
    "\n",
    "load_dotenv()\n",
    "client_id = os.getenv(\"NAVER_CLIENT_ID\") # 개발자센터에서 발급받은 Client ID 값\n",
    "client_secret = os.getenv(\"NAVER_CLIENT_SECRET\") # 개발자센터에서 발급받은 Client Secret 값\n",
    "key = \"hdntkaG5VAlh87EZ\" # 캡차 Key 값\n",
    "code = \"1\"\n",
    "value = \"482ES\"\n",
    "url = \"https://openapi.naver.com/v1/captcha/nkey?code=\" + code + \"&key=\" + key + \"&value=\" + value\n",
    "request = urllib.request.Request(url)\n",
    "request.add_header(\"X-Naver-Client-Id\",client_id)\n",
    "request.add_header(\"X-Naver-Client-Secret\",client_secret)\n",
    "response = urllib.request.urlopen(request)\n",
    "rescode = response.getcode()\n",
    "if(rescode==200):\n",
    "    response_body = response.read()\n",
    "    print(response_body.decode('utf-8'))\n",
    "else:\n",
    "    print(\"Error Code:\" + rescode)\n"
   ]
  },
  {
   "cell_type": "markdown",
   "id": "b7d984a6",
   "metadata": {},
   "source": [
    "* requests를 사용하는 코드로 변경하기\n",
    "* [requests docs](https://requests.readthedocs.io/en/latest/user/quickstart/)"
   ]
  },
  {
   "cell_type": "code",
   "execution_count": null,
   "id": "727b427b",
   "metadata": {
    "scrolled": true
   },
   "outputs": [
    {
     "name": "stdout",
     "output_type": "stream",
     "text": [
      "Requirement already satisfied: python-dotenv in c:\\users\\user\\anaconda3\\lib\\site-packages (1.0.1)\n"
     ]
    }
   ],
   "source": [
    "# 사용자 입력값 검증 요청\n",
    "\n"
   ]
  },
  {
   "cell_type": "markdown",
   "id": "d5e1179a",
   "metadata": {},
   "source": [
    "### 5. 블로그 검색하기"
   ]
  },
  {
   "cell_type": "code",
   "execution_count": null,
   "id": "877d0c7f",
   "metadata": {},
   "outputs": [],
   "source": [
    "import requests\n",
    "import pprint\n",
    "\n",
    "headers = {\n",
    "    'X-Naver-Client-Id': '',\n",
    "    'X-Naver-Client-Secret': '',\n",
    "}\n",
    "\n",
    "payload = {\n",
    "    'query': '파이썬',\n",
    "    'display': 100,\n",
    "    'sort': 'sim'\n",
    "}\n",
    "\n",
    "url = 'https://openapi.naver.com/v1/search/blog.json'\n",
    "\n",
    "\n",
    "# requests get(url, params, headers) 요청 \n",
    "\n",
    "# json() 함수로 응답 결과 가져오오기\n",
    "# 'title' , 'bloggername' , 'description' , 'bloggerlink' , 'link'\n",
    "\n",
    "# 'data/nhnblog.txt' 파일 생성하기\n"
   ]
  }
 ],
 "metadata": {
  "kernelspec": {
   "display_name": "base",
   "language": "python",
   "name": "python3"
  },
  "language_info": {
   "codemirror_mode": {
    "name": "ipython",
    "version": 3
   },
   "file_extension": ".py",
   "mimetype": "text/x-python",
   "name": "python",
   "nbconvert_exporter": "python",
   "pygments_lexer": "ipython3",
   "version": "3.12.7"
  }
 },
 "nbformat": 4,
 "nbformat_minor": 5
}
